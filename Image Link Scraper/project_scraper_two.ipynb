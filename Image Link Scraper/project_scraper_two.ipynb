{
 "cells": [
  {
   "cell_type": "markdown",
   "metadata": {},
   "source": [
    "### Section 1: Import Libraries"
   ]
  },
  {
   "cell_type": "code",
   "execution_count": 123,
   "metadata": {},
   "outputs": [],
   "source": [
    "import requests\n",
    "from bs4 import BeautifulSoup"
   ]
  },
  {
   "cell_type": "markdown",
   "metadata": {},
   "source": [
    "### Section 2: Retrieve Sitemap"
   ]
  },
  {
   "cell_type": "code",
   "execution_count": 124,
   "metadata": {},
   "outputs": [],
   "source": [
    "site_map = 'https://www.pngmart.com/sitemap.xml'\n",
    "response = requests.get(site_map) \n",
    "xml      = response.text\n",
    "soup     = BeautifulSoup(xml,'html.parser')"
   ]
  },
  {
   "cell_type": "markdown",
   "metadata": {},
   "source": [
    "### Section 3: Extract Post URLs from Sitemap"
   ]
  },
  {
   "cell_type": "code",
   "execution_count": 125,
   "metadata": {},
   "outputs": [
    {
     "name": "stdout",
     "output_type": "stream",
     "text": [
      "https://www.pngmart.com/sitemap-posts-1.xml\n",
      "https://www.pngmart.com/sitemap-posts-2.xml\n",
      "https://www.pngmart.com/sitemap-posts-3.xml\n",
      "https://www.pngmart.com/sitemap-posts-4.xml\n",
      "https://www.pngmart.com/sitemap-posts-5.xml\n",
      "https://www.pngmart.com/sitemap-posts-6.xml\n",
      "https://www.pngmart.com/sitemap-posts-7.xml\n",
      "https://www.pngmart.com/sitemap-posts-8.xml\n",
      "https://www.pngmart.com/sitemap-posts-9.xml\n",
      "https://www.pngmart.com/sitemap-posts-10.xml\n",
      "https://www.pngmart.com/sitemap-posts-11.xml\n",
      "https://www.pngmart.com/sitemap-posts-12.xml\n",
      "https://www.pngmart.com/sitemap-posts-13.xml\n",
      "https://www.pngmart.com/sitemap-posts-14.xml\n",
      "https://www.pngmart.com/sitemap-posts-15.xml\n",
      "https://www.pngmart.com/sitemap-posts-16.xml\n",
      "https://www.pngmart.com/sitemap-posts-17.xml\n",
      "https://www.pngmart.com/sitemap-posts-18.xml\n",
      "https://www.pngmart.com/sitemap-posts-19.xml\n",
      "https://www.pngmart.com/sitemap-posts-20.xml\n",
      "https://www.pngmart.com/sitemap-posts-21.xml\n",
      "https://www.pngmart.com/sitemap-posts-22.xml\n",
      "https://www.pngmart.com/sitemap-posts-23.xml\n",
      "https://www.pngmart.com/sitemap-posts-24.xml\n",
      "https://www.pngmart.com/sitemap-posts-25.xml\n",
      "https://www.pngmart.com/sitemap-posts-26.xml\n",
      "https://www.pngmart.com/sitemap-posts-27.xml\n",
      "https://www.pngmart.com/sitemap-posts-28.xml\n",
      "https://www.pngmart.com/sitemap-posts-29.xml\n",
      "https://www.pngmart.com/sitemap-posts-30.xml\n",
      "https://www.pngmart.com/sitemap-posts-31.xml\n",
      "https://www.pngmart.com/sitemap-posts-32.xml\n",
      "https://www.pngmart.com/sitemap-posts-33.xml\n",
      "https://www.pngmart.com/sitemap-posts-34.xml\n",
      "https://www.pngmart.com/sitemap-posts-35.xml\n",
      "https://www.pngmart.com/sitemap-posts-36.xml\n",
      "https://www.pngmart.com/sitemap-posts-37.xml\n",
      "https://www.pngmart.com/sitemap-posts-38.xml\n",
      "https://www.pngmart.com/sitemap-posts-39.xml\n",
      "https://www.pngmart.com/sitemap-posts-40.xml\n",
      "https://www.pngmart.com/sitemap-posts-41.xml\n",
      "https://www.pngmart.com/sitemap-posts-42.xml\n",
      "https://www.pngmart.com/sitemap-posts-43.xml\n",
      "https://www.pngmart.com/sitemap-posts-44.xml\n",
      "https://www.pngmart.com/sitemap-posts-45.xml\n",
      "https://www.pngmart.com/sitemap-posts-46.xml\n",
      "https://www.pngmart.com/sitemap-posts-47.xml\n",
      "https://www.pngmart.com/sitemap-posts-48.xml\n",
      "https://www.pngmart.com/sitemap-posts-49.xml\n",
      "https://www.pngmart.com/sitemap-posts-50.xml\n",
      "https://www.pngmart.com/sitemap-posts-51.xml\n",
      "https://www.pngmart.com/sitemap-posts-52.xml\n",
      "https://www.pngmart.com/sitemap-posts-53.xml\n",
      "https://www.pngmart.com/sitemap-posts-54.xml\n",
      "https://www.pngmart.com/sitemap-posts-55.xml\n",
      "https://www.pngmart.com/sitemap-posts-56.xml\n",
      "https://www.pngmart.com/sitemap-posts-57.xml\n",
      "https://www.pngmart.com/sitemap-posts-58.xml\n",
      "https://www.pngmart.com/sitemap-posts-59.xml\n",
      "https://www.pngmart.com/sitemap-posts-60.xml\n",
      "https://www.pngmart.com/sitemap-posts-61.xml\n",
      "https://www.pngmart.com/sitemap-posts-62.xml\n",
      "https://www.pngmart.com/sitemap-posts-63.xml\n",
      "https://www.pngmart.com/sitemap-posts-64.xml\n",
      "https://www.pngmart.com/sitemap-posts-65.xml\n",
      "https://www.pngmart.com/sitemap-posts-66.xml\n",
      "https://www.pngmart.com/sitemap-posts-67.xml\n",
      "https://www.pngmart.com/sitemap-posts-68.xml\n",
      "https://www.pngmart.com/sitemap-posts-69.xml\n",
      "https://www.pngmart.com/sitemap-posts-70.xml\n",
      "https://www.pngmart.com/sitemap-posts-71.xml\n",
      "https://www.pngmart.com/sitemap-posts-72.xml\n",
      "https://www.pngmart.com/sitemap-posts-73.xml\n",
      "https://www.pngmart.com/sitemap-posts-74.xml\n",
      "https://www.pngmart.com/sitemap-posts-75.xml\n",
      "https://www.pngmart.com/sitemap-posts-76.xml\n",
      "https://www.pngmart.com/sitemap-posts-77.xml\n",
      "https://www.pngmart.com/sitemap-posts-78.xml\n",
      "https://www.pngmart.com/sitemap-posts-79.xml\n",
      "https://www.pngmart.com/sitemap-posts-80.xml\n",
      "https://www.pngmart.com/sitemap-posts-81.xml\n",
      "https://www.pngmart.com/sitemap-posts-82.xml\n",
      "https://www.pngmart.com/sitemap-posts-83.xml\n",
      "https://www.pngmart.com/sitemap-posts-84.xml\n",
      "https://www.pngmart.com/sitemap-posts-85.xml\n",
      "https://www.pngmart.com/sitemap-posts-86.xml\n",
      "https://www.pngmart.com/sitemap-posts-87.xml\n",
      "https://www.pngmart.com/sitemap-posts-88.xml\n",
      "https://www.pngmart.com/sitemap-posts-89.xml\n",
      "https://www.pngmart.com/sitemap-posts-90.xml\n",
      "https://www.pngmart.com/sitemap-posts-91.xml\n",
      "https://www.pngmart.com/sitemap-posts-92.xml\n",
      "https://www.pngmart.com/sitemap-posts-93.xml\n",
      "https://www.pngmart.com/sitemap-posts-94.xml\n",
      "https://www.pngmart.com/sitemap-posts-95.xml\n",
      "https://www.pngmart.com/sitemap-posts-96.xml\n",
      "https://www.pngmart.com/sitemap-posts-97.xml\n",
      "https://www.pngmart.com/sitemap-posts-98.xml\n",
      "https://www.pngmart.com/sitemap-posts-99.xml\n",
      "https://www.pngmart.com/sitemap-posts-100.xml\n",
      "https://www.pngmart.com/sitemap-posts-101.xml\n",
      "https://www.pngmart.com/sitemap-posts-102.xml\n",
      "https://www.pngmart.com/sitemap-posts-103.xml\n",
      "https://www.pngmart.com/sitemap-posts-104.xml\n",
      "https://www.pngmart.com/sitemap-posts-105.xml\n",
      "https://www.pngmart.com/sitemap-posts-106.xml\n",
      "https://www.pngmart.com/sitemap-posts-107.xml\n",
      "https://www.pngmart.com/sitemap-posts-108.xml\n",
      "https://www.pngmart.com/sitemap-posts-109.xml\n",
      "https://www.pngmart.com/sitemap-posts-110.xml\n",
      "https://www.pngmart.com/sitemap-posts-111.xml\n",
      "https://www.pngmart.com/sitemap-posts-112.xml\n",
      "https://www.pngmart.com/sitemap-posts-113.xml\n",
      "https://www.pngmart.com/sitemap-posts-114.xml\n",
      "https://www.pngmart.com/sitemap-posts-115.xml\n",
      "https://www.pngmart.com/sitemap-posts-116.xml\n",
      "https://www.pngmart.com/sitemap-posts-117.xml\n",
      "https://www.pngmart.com/sitemap-posts-118.xml\n",
      "https://www.pngmart.com/sitemap-posts-119.xml\n",
      "https://www.pngmart.com/sitemap-posts-120.xml\n",
      "https://www.pngmart.com/sitemap-posts-121.xml\n",
      "https://www.pngmart.com/sitemap-posts-122.xml\n",
      "https://www.pngmart.com/sitemap-posts-123.xml\n",
      "https://www.pngmart.com/sitemap-posts-124.xml\n",
      "https://www.pngmart.com/sitemap-posts-125.xml\n",
      "https://www.pngmart.com/sitemap-posts-126.xml\n",
      "https://www.pngmart.com/sitemap-posts-127.xml\n",
      "https://www.pngmart.com/sitemap-posts-128.xml\n",
      "https://www.pngmart.com/sitemap-posts-129.xml\n",
      "https://www.pngmart.com/sitemap-posts-130.xml\n",
      "https://www.pngmart.com/sitemap-posts-131.xml\n",
      "https://www.pngmart.com/sitemap-posts-132.xml\n",
      "https://www.pngmart.com/sitemap-posts-133.xml\n",
      "https://www.pngmart.com/sitemap-posts-134.xml\n",
      "https://www.pngmart.com/sitemap-posts-135.xml\n",
      "https://www.pngmart.com/sitemap-posts-136.xml\n",
      "https://www.pngmart.com/sitemap-posts-137.xml\n",
      "https://www.pngmart.com/sitemap-posts-138.xml\n",
      "https://www.pngmart.com/sitemap-posts-139.xml\n",
      "https://www.pngmart.com/sitemap-posts-140.xml\n",
      "https://www.pngmart.com/sitemap-posts-141.xml\n",
      "https://www.pngmart.com/sitemap-posts-142.xml\n",
      "https://www.pngmart.com/sitemap-posts-143.xml\n",
      "https://www.pngmart.com/sitemap-posts-144.xml\n",
      "https://www.pngmart.com/sitemap-posts-145.xml\n",
      "https://www.pngmart.com/sitemap-posts-146.xml\n",
      "https://www.pngmart.com/sitemap-posts-147.xml\n",
      "https://www.pngmart.com/sitemap-posts-148.xml\n",
      "https://www.pngmart.com/sitemap-posts-149.xml\n",
      "https://www.pngmart.com/sitemap-posts-150.xml\n",
      "https://www.pngmart.com/sitemap-posts-151.xml\n",
      "https://www.pngmart.com/sitemap-posts-152.xml\n",
      "https://www.pngmart.com/sitemap-posts-153.xml\n",
      "https://www.pngmart.com/sitemap-posts-154.xml\n",
      "https://www.pngmart.com/sitemap-posts-155.xml\n",
      "https://www.pngmart.com/sitemap-posts-156.xml\n",
      "https://www.pngmart.com/sitemap-posts-157.xml\n",
      "https://www.pngmart.com/sitemap-posts-158.xml\n",
      "https://www.pngmart.com/sitemap-posts-159.xml\n",
      "https://www.pngmart.com/sitemap-posts-160.xml\n",
      "https://www.pngmart.com/sitemap-posts-161.xml\n",
      "https://www.pngmart.com/sitemap-posts-162.xml\n",
      "https://www.pngmart.com/sitemap-posts-163.xml\n",
      "https://www.pngmart.com/sitemap-posts-164.xml\n",
      "https://www.pngmart.com/sitemap-posts-165.xml\n",
      "https://www.pngmart.com/sitemap-posts-166.xml\n",
      "https://www.pngmart.com/sitemap-posts-167.xml\n",
      "https://www.pngmart.com/sitemap-posts-168.xml\n",
      "https://www.pngmart.com/sitemap-posts-169.xml\n",
      "https://www.pngmart.com/sitemap-posts-170.xml\n",
      "https://www.pngmart.com/sitemap-posts-171.xml\n",
      "https://www.pngmart.com/sitemap-posts-172.xml\n",
      "https://www.pngmart.com/sitemap-posts-173.xml\n",
      "https://www.pngmart.com/sitemap-posts-174.xml\n",
      "https://www.pngmart.com/sitemap-posts-175.xml\n",
      "https://www.pngmart.com/sitemap-posts-176.xml\n",
      "https://www.pngmart.com/sitemap-posts-177.xml\n",
      "https://www.pngmart.com/sitemap-posts-178.xml\n",
      "https://www.pngmart.com/sitemap-posts-179.xml\n",
      "https://www.pngmart.com/sitemap-posts-180.xml\n",
      "https://www.pngmart.com/sitemap-posts-181.xml\n",
      "https://www.pngmart.com/sitemap-posts-182.xml\n",
      "https://www.pngmart.com/sitemap-posts-183.xml\n",
      "https://www.pngmart.com/sitemap-posts-184.xml\n",
      "https://www.pngmart.com/sitemap-posts-185.xml\n",
      "https://www.pngmart.com/sitemap-posts-186.xml\n",
      "https://www.pngmart.com/sitemap-posts-187.xml\n",
      "https://www.pngmart.com/sitemap-posts-188.xml\n",
      "https://www.pngmart.com/sitemap-posts-189.xml\n",
      "https://www.pngmart.com/sitemap-posts-190.xml\n",
      "https://www.pngmart.com/sitemap-posts-191.xml\n",
      "https://www.pngmart.com/sitemap-posts-192.xml\n",
      "https://www.pngmart.com/sitemap-posts-193.xml\n",
      "https://www.pngmart.com/sitemap-posts-194.xml\n",
      "https://www.pngmart.com/sitemap-posts-195.xml\n",
      "https://www.pngmart.com/sitemap-posts-196.xml\n",
      "https://www.pngmart.com/sitemap-posts-197.xml\n",
      "https://www.pngmart.com/sitemap-posts-198.xml\n",
      "https://www.pngmart.com/sitemap-posts-199.xml\n",
      "https://www.pngmart.com/sitemap-posts-200.xml\n",
      "https://www.pngmart.com/sitemap-posts-201.xml\n",
      "https://www.pngmart.com/sitemap-posts-202.xml\n",
      "https://www.pngmart.com/sitemap-posts-203.xml\n",
      "https://www.pngmart.com/sitemap-posts-204.xml\n",
      "https://www.pngmart.com/sitemap-posts-205.xml\n",
      "https://www.pngmart.com/sitemap-posts-206.xml\n",
      "https://www.pngmart.com/sitemap-posts-207.xml\n",
      "https://www.pngmart.com/sitemap-posts-208.xml\n",
      "https://www.pngmart.com/sitemap-posts-209.xml\n",
      "https://www.pngmart.com/sitemap-posts-210.xml\n",
      "https://www.pngmart.com/sitemap-posts-211.xml\n",
      "https://www.pngmart.com/sitemap-posts-212.xml\n",
      "https://www.pngmart.com/sitemap-posts-213.xml\n",
      "https://www.pngmart.com/sitemap-posts-214.xml\n",
      "https://www.pngmart.com/sitemap-posts-215.xml\n",
      "https://www.pngmart.com/sitemap-posts-216.xml\n",
      "https://www.pngmart.com/sitemap-posts-217.xml\n",
      "https://www.pngmart.com/sitemap-posts-218.xml\n",
      "https://www.pngmart.com/sitemap-posts-219.xml\n",
      "https://www.pngmart.com/sitemap-posts-220.xml\n",
      "https://www.pngmart.com/sitemap-posts-221.xml\n",
      "https://www.pngmart.com/sitemap-posts-222.xml\n",
      "https://www.pngmart.com/sitemap-posts-223.xml\n",
      "https://www.pngmart.com/sitemap-posts-224.xml\n",
      "https://www.pngmart.com/sitemap-posts-225.xml\n",
      "https://www.pngmart.com/sitemap-posts-226.xml\n",
      "https://www.pngmart.com/sitemap-posts-227.xml\n",
      "https://www.pngmart.com/sitemap-posts-228.xml\n",
      "https://www.pngmart.com/sitemap-posts-229.xml\n",
      "https://www.pngmart.com/sitemap-posts-230.xml\n",
      "https://www.pngmart.com/sitemap-posts-231.xml\n",
      "https://www.pngmart.com/sitemap-posts-232.xml\n",
      "https://www.pngmart.com/sitemap-posts-233.xml\n",
      "https://www.pngmart.com/sitemap-posts-234.xml\n",
      "https://www.pngmart.com/sitemap-posts-235.xml\n",
      "https://www.pngmart.com/sitemap-posts-236.xml\n",
      "https://www.pngmart.com/sitemap-posts-237.xml\n",
      "https://www.pngmart.com/sitemap-posts-238.xml\n",
      "https://www.pngmart.com/sitemap-posts-239.xml\n"
     ]
    }
   ],
   "source": [
    "site_maps = []\n",
    "\n",
    "for loc in soup.find_all('loc'):\n",
    "    url = loc.text\n",
    "    if 'posts' in url:\n",
    "        print(loc.text)\n",
    "        site_maps.append(url)"
   ]
  },
  {
   "cell_type": "markdown",
   "metadata": {},
   "source": [
    "### Section 4: Retrieve Images from a Sample Post URL"
   ]
  },
  {
   "cell_type": "code",
   "execution_count": 126,
   "metadata": {},
   "outputs": [],
   "source": [
    "site_map_1 = site_maps[0]\n",
    "response_1 = requests.get(site_map_1)\n",
    "soup       = BeautifulSoup(response_1.text,'html.parser')\n"
   ]
  },
  {
   "cell_type": "markdown",
   "metadata": {},
   "source": [
    "### Section 5: Extract Image URLs from the Post"
   ]
  },
  {
   "cell_type": "code",
   "execution_count": 127,
   "metadata": {},
   "outputs": [],
   "source": [
    "master_list = []\n",
    "\n",
    "for loc in soup.find_all('loc'):\n",
    "    url = loc.text\n",
    "    master_list.append(url)"
   ]
  },
  {
   "cell_type": "markdown",
   "metadata": {},
   "source": [
    "### Section 6: Download Images"
   ]
  },
  {
   "cell_type": "code",
   "execution_count": 128,
   "metadata": {},
   "outputs": [
    {
     "name": "stdout",
     "output_type": "stream",
     "text": [
      "https://www.pngmart.com/image/767328\n"
     ]
    }
   ],
   "source": [
    "for image_url in master_list:\n",
    "    print(image_url)\n",
    "    response    = requests.get(image_url)\n",
    "    soup        = BeautifulSoup(response.text,'html.parser')\n",
    "    png_url     = soup.find('a', {'class':'download'})['href']\n",
    "    image_title = image_url.split('/')[-1]+'-'+png_url.split('/')[-1]\n",
    "    \n",
    "    with open(image_title, 'wb') as file:\n",
    "        file.write(image.content)\n",
    "\n",
    "    break"
   ]
  },
  {
   "cell_type": "markdown",
   "metadata": {},
   "source": [
    "### Section 7: Documenting Images into CSV"
   ]
  },
  {
   "cell_type": "code",
   "execution_count": 136,
   "metadata": {},
   "outputs": [
    {
     "name": "stdout",
     "output_type": "stream",
     "text": [
      "https://www.pngmart.com/image/767328\n",
      "https://www.pngmart.com/image/767326\n",
      "https://www.pngmart.com/image/767324\n",
      "https://www.pngmart.com/image/767322\n",
      "https://www.pngmart.com/image/767320\n",
      "Done Getting Images\n"
     ]
    }
   ],
   "source": [
    "image_list      = []\n",
    "\n",
    "for image_url in master_list[0:5]:\n",
    "    print(image_url)\n",
    "    response    = requests.get(image_url)\n",
    "    soup        = BeautifulSoup(response.text,'html.parser')\n",
    "    data_dict   = {}\n",
    "    png_url     = soup.find('a', {'class':'download'})['href']\n",
    "    png_name = png_url.split('/')[-1]\n",
    "    png_type = png_name.split('.')[-1]\n",
    "\n",
    "    \n",
    "    data_dict['id']  = image_url.split('/')[-1]\n",
    "    data_dict['name'] = png_name\n",
    "    data_dict['type'] = png_type\n",
    "\n",
    "    image_list.append(data_dict)\n",
    "\n",
    "print('Done Getting Images')"
   ]
  },
  {
   "cell_type": "code",
   "execution_count": 105,
   "metadata": {},
   "outputs": [],
   "source": [
    "import pandas as pd"
   ]
  },
  {
   "cell_type": "code",
   "execution_count": 140,
   "metadata": {},
   "outputs": [],
   "source": [
    "df = pd.DataFrame(image_list)\n",
    "df"
   ]
  },
  {
   "cell_type": "code",
   "execution_count": 142,
   "metadata": {},
   "outputs": [],
   "source": [
    "df.to_csv('image_download_list.csv', index=False)"
   ]
  }
 ],
 "metadata": {
  "kernelspec": {
   "display_name": "Python 3",
   "language": "python",
   "name": "python3"
  },
  "language_info": {
   "codemirror_mode": {
    "name": "ipython",
    "version": 3
   },
   "file_extension": ".py",
   "mimetype": "text/x-python",
   "name": "python",
   "nbconvert_exporter": "python",
   "pygments_lexer": "ipython3",
   "version": "3.9.13"
  }
 },
 "nbformat": 4,
 "nbformat_minor": 2
}
